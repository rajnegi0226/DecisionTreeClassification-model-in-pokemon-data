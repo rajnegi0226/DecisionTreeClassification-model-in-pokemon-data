{
 "cells": [
  {
   "cell_type": "code",
   "execution_count": 1,
   "id": "f51bbcdf",
   "metadata": {},
   "outputs": [],
   "source": [
    "import pandas as pd\n",
    "import numpy as np \n",
    "import seaborn as sns\n",
    "import matplotlib.pyplot as mp"
   ]
  },
  {
   "cell_type": "code",
   "execution_count": 2,
   "id": "e4be0b9f",
   "metadata": {},
   "outputs": [],
   "source": [
    "df = pd.read_csv(\"C:/Users/Vivek negi/Downloads/pokemon.csv\")"
   ]
  },
  {
   "cell_type": "code",
   "execution_count": 27,
   "id": "ce49c390",
   "metadata": {},
   "outputs": [
    {
     "data": {
      "text/html": [
       "<div>\n",
       "<style scoped>\n",
       "    .dataframe tbody tr th:only-of-type {\n",
       "        vertical-align: middle;\n",
       "    }\n",
       "\n",
       "    .dataframe tbody tr th {\n",
       "        vertical-align: top;\n",
       "    }\n",
       "\n",
       "    .dataframe thead th {\n",
       "        text-align: right;\n",
       "    }\n",
       "</style>\n",
       "<table border=\"1\" class=\"dataframe\">\n",
       "  <thead>\n",
       "    <tr style=\"text-align: right;\">\n",
       "      <th></th>\n",
       "      <th>#</th>\n",
       "      <th>Name</th>\n",
       "      <th>Primary_Type</th>\n",
       "      <th>Secondary_Type</th>\n",
       "      <th>Total</th>\n",
       "      <th>HP</th>\n",
       "      <th>Attack</th>\n",
       "      <th>Defense</th>\n",
       "      <th>Sp. Atk</th>\n",
       "      <th>Sp. Def</th>\n",
       "      <th>Speed</th>\n",
       "      <th>Generation</th>\n",
       "      <th>Legendary</th>\n",
       "    </tr>\n",
       "  </thead>\n",
       "  <tbody>\n",
       "    <tr>\n",
       "      <th>0</th>\n",
       "      <td>1</td>\n",
       "      <td>Bulbasaur</td>\n",
       "      <td>Grass</td>\n",
       "      <td>Poison</td>\n",
       "      <td>318</td>\n",
       "      <td>45</td>\n",
       "      <td>49</td>\n",
       "      <td>49</td>\n",
       "      <td>65</td>\n",
       "      <td>65</td>\n",
       "      <td>45</td>\n",
       "      <td>1</td>\n",
       "      <td>False</td>\n",
       "    </tr>\n",
       "    <tr>\n",
       "      <th>1</th>\n",
       "      <td>2</td>\n",
       "      <td>Ivysaur</td>\n",
       "      <td>Grass</td>\n",
       "      <td>Poison</td>\n",
       "      <td>405</td>\n",
       "      <td>60</td>\n",
       "      <td>62</td>\n",
       "      <td>63</td>\n",
       "      <td>80</td>\n",
       "      <td>80</td>\n",
       "      <td>60</td>\n",
       "      <td>1</td>\n",
       "      <td>False</td>\n",
       "    </tr>\n",
       "    <tr>\n",
       "      <th>2</th>\n",
       "      <td>3</td>\n",
       "      <td>Venusaur</td>\n",
       "      <td>Grass</td>\n",
       "      <td>Poison</td>\n",
       "      <td>525</td>\n",
       "      <td>80</td>\n",
       "      <td>82</td>\n",
       "      <td>83</td>\n",
       "      <td>100</td>\n",
       "      <td>100</td>\n",
       "      <td>80</td>\n",
       "      <td>1</td>\n",
       "      <td>False</td>\n",
       "    </tr>\n",
       "    <tr>\n",
       "      <th>3</th>\n",
       "      <td>3</td>\n",
       "      <td>VenusaurMega Venusaur</td>\n",
       "      <td>Grass</td>\n",
       "      <td>Poison</td>\n",
       "      <td>625</td>\n",
       "      <td>80</td>\n",
       "      <td>100</td>\n",
       "      <td>123</td>\n",
       "      <td>122</td>\n",
       "      <td>120</td>\n",
       "      <td>80</td>\n",
       "      <td>1</td>\n",
       "      <td>False</td>\n",
       "    </tr>\n",
       "    <tr>\n",
       "      <th>4</th>\n",
       "      <td>4</td>\n",
       "      <td>Charmander</td>\n",
       "      <td>Fire</td>\n",
       "      <td>NaN</td>\n",
       "      <td>309</td>\n",
       "      <td>39</td>\n",
       "      <td>52</td>\n",
       "      <td>43</td>\n",
       "      <td>60</td>\n",
       "      <td>50</td>\n",
       "      <td>65</td>\n",
       "      <td>1</td>\n",
       "      <td>False</td>\n",
       "    </tr>\n",
       "  </tbody>\n",
       "</table>\n",
       "</div>"
      ],
      "text/plain": [
       "   #                   Name Primary_Type Secondary_Type  Total  HP  Attack  \\\n",
       "0  1              Bulbasaur        Grass         Poison    318  45      49   \n",
       "1  2                Ivysaur        Grass         Poison    405  60      62   \n",
       "2  3               Venusaur        Grass         Poison    525  80      82   \n",
       "3  3  VenusaurMega Venusaur        Grass         Poison    625  80     100   \n",
       "4  4             Charmander         Fire            NaN    309  39      52   \n",
       "\n",
       "   Defense  Sp. Atk  Sp. Def  Speed  Generation  Legendary  \n",
       "0       49       65       65     45           1      False  \n",
       "1       63       80       80     60           1      False  \n",
       "2       83      100      100     80           1      False  \n",
       "3      123      122      120     80           1      False  \n",
       "4       43       60       50     65           1      False  "
      ]
     },
     "execution_count": 27,
     "metadata": {},
     "output_type": "execute_result"
    }
   ],
   "source": [
    "df.head()"
   ]
  },
  {
   "cell_type": "code",
   "execution_count": 3,
   "id": "85887793",
   "metadata": {},
   "outputs": [
    {
     "data": {
      "text/html": [
       "<div>\n",
       "<style scoped>\n",
       "    .dataframe tbody tr th:only-of-type {\n",
       "        vertical-align: middle;\n",
       "    }\n",
       "\n",
       "    .dataframe tbody tr th {\n",
       "        vertical-align: top;\n",
       "    }\n",
       "\n",
       "    .dataframe thead th {\n",
       "        text-align: right;\n",
       "    }\n",
       "</style>\n",
       "<table border=\"1\" class=\"dataframe\">\n",
       "  <thead>\n",
       "    <tr style=\"text-align: right;\">\n",
       "      <th></th>\n",
       "      <th>#</th>\n",
       "      <th>Total</th>\n",
       "      <th>HP</th>\n",
       "      <th>Attack</th>\n",
       "      <th>Defense</th>\n",
       "      <th>Sp. Atk</th>\n",
       "      <th>Sp. Def</th>\n",
       "      <th>Speed</th>\n",
       "      <th>Generation</th>\n",
       "    </tr>\n",
       "  </thead>\n",
       "  <tbody>\n",
       "    <tr>\n",
       "      <th>count</th>\n",
       "      <td>800.000000</td>\n",
       "      <td>800.00000</td>\n",
       "      <td>800.000000</td>\n",
       "      <td>800.000000</td>\n",
       "      <td>800.000000</td>\n",
       "      <td>800.000000</td>\n",
       "      <td>800.000000</td>\n",
       "      <td>800.000000</td>\n",
       "      <td>800.00000</td>\n",
       "    </tr>\n",
       "    <tr>\n",
       "      <th>mean</th>\n",
       "      <td>362.813750</td>\n",
       "      <td>435.10250</td>\n",
       "      <td>69.258750</td>\n",
       "      <td>79.001250</td>\n",
       "      <td>73.842500</td>\n",
       "      <td>72.820000</td>\n",
       "      <td>71.902500</td>\n",
       "      <td>68.277500</td>\n",
       "      <td>3.32375</td>\n",
       "    </tr>\n",
       "    <tr>\n",
       "      <th>std</th>\n",
       "      <td>208.343798</td>\n",
       "      <td>119.96304</td>\n",
       "      <td>25.534669</td>\n",
       "      <td>32.457366</td>\n",
       "      <td>31.183501</td>\n",
       "      <td>32.722294</td>\n",
       "      <td>27.828916</td>\n",
       "      <td>29.060474</td>\n",
       "      <td>1.66129</td>\n",
       "    </tr>\n",
       "    <tr>\n",
       "      <th>min</th>\n",
       "      <td>1.000000</td>\n",
       "      <td>180.00000</td>\n",
       "      <td>1.000000</td>\n",
       "      <td>5.000000</td>\n",
       "      <td>5.000000</td>\n",
       "      <td>10.000000</td>\n",
       "      <td>20.000000</td>\n",
       "      <td>5.000000</td>\n",
       "      <td>1.00000</td>\n",
       "    </tr>\n",
       "    <tr>\n",
       "      <th>25%</th>\n",
       "      <td>184.750000</td>\n",
       "      <td>330.00000</td>\n",
       "      <td>50.000000</td>\n",
       "      <td>55.000000</td>\n",
       "      <td>50.000000</td>\n",
       "      <td>49.750000</td>\n",
       "      <td>50.000000</td>\n",
       "      <td>45.000000</td>\n",
       "      <td>2.00000</td>\n",
       "    </tr>\n",
       "    <tr>\n",
       "      <th>50%</th>\n",
       "      <td>364.500000</td>\n",
       "      <td>450.00000</td>\n",
       "      <td>65.000000</td>\n",
       "      <td>75.000000</td>\n",
       "      <td>70.000000</td>\n",
       "      <td>65.000000</td>\n",
       "      <td>70.000000</td>\n",
       "      <td>65.000000</td>\n",
       "      <td>3.00000</td>\n",
       "    </tr>\n",
       "    <tr>\n",
       "      <th>75%</th>\n",
       "      <td>539.250000</td>\n",
       "      <td>515.00000</td>\n",
       "      <td>80.000000</td>\n",
       "      <td>100.000000</td>\n",
       "      <td>90.000000</td>\n",
       "      <td>95.000000</td>\n",
       "      <td>90.000000</td>\n",
       "      <td>90.000000</td>\n",
       "      <td>5.00000</td>\n",
       "    </tr>\n",
       "    <tr>\n",
       "      <th>max</th>\n",
       "      <td>721.000000</td>\n",
       "      <td>780.00000</td>\n",
       "      <td>255.000000</td>\n",
       "      <td>190.000000</td>\n",
       "      <td>230.000000</td>\n",
       "      <td>194.000000</td>\n",
       "      <td>230.000000</td>\n",
       "      <td>180.000000</td>\n",
       "      <td>6.00000</td>\n",
       "    </tr>\n",
       "  </tbody>\n",
       "</table>\n",
       "</div>"
      ],
      "text/plain": [
       "                #      Total          HP      Attack     Defense     Sp. Atk  \\\n",
       "count  800.000000  800.00000  800.000000  800.000000  800.000000  800.000000   \n",
       "mean   362.813750  435.10250   69.258750   79.001250   73.842500   72.820000   \n",
       "std    208.343798  119.96304   25.534669   32.457366   31.183501   32.722294   \n",
       "min      1.000000  180.00000    1.000000    5.000000    5.000000   10.000000   \n",
       "25%    184.750000  330.00000   50.000000   55.000000   50.000000   49.750000   \n",
       "50%    364.500000  450.00000   65.000000   75.000000   70.000000   65.000000   \n",
       "75%    539.250000  515.00000   80.000000  100.000000   90.000000   95.000000   \n",
       "max    721.000000  780.00000  255.000000  190.000000  230.000000  194.000000   \n",
       "\n",
       "          Sp. Def       Speed  Generation  \n",
       "count  800.000000  800.000000   800.00000  \n",
       "mean    71.902500   68.277500     3.32375  \n",
       "std     27.828916   29.060474     1.66129  \n",
       "min     20.000000    5.000000     1.00000  \n",
       "25%     50.000000   45.000000     2.00000  \n",
       "50%     70.000000   65.000000     3.00000  \n",
       "75%     90.000000   90.000000     5.00000  \n",
       "max    230.000000  180.000000     6.00000  "
      ]
     },
     "execution_count": 3,
     "metadata": {},
     "output_type": "execute_result"
    }
   ],
   "source": [
    "df.describe()"
   ]
  },
  {
   "cell_type": "code",
   "execution_count": 4,
   "id": "9091b98a",
   "metadata": {},
   "outputs": [
    {
     "data": {
      "text/plain": [
       "(800, 13)"
      ]
     },
     "execution_count": 4,
     "metadata": {},
     "output_type": "execute_result"
    }
   ],
   "source": [
    "df.shape"
   ]
  },
  {
   "cell_type": "code",
   "execution_count": 5,
   "id": "2a502708",
   "metadata": {},
   "outputs": [
    {
     "name": "stdout",
     "output_type": "stream",
     "text": [
      "<class 'pandas.core.frame.DataFrame'>\n",
      "RangeIndex: 800 entries, 0 to 799\n",
      "Data columns (total 13 columns):\n",
      " #   Column      Non-Null Count  Dtype \n",
      "---  ------      --------------  ----- \n",
      " 0   #           800 non-null    int64 \n",
      " 1   Name        800 non-null    object\n",
      " 2   Type 1      800 non-null    object\n",
      " 3   Type 2      414 non-null    object\n",
      " 4   Total       800 non-null    int64 \n",
      " 5   HP          800 non-null    int64 \n",
      " 6   Attack      800 non-null    int64 \n",
      " 7   Defense     800 non-null    int64 \n",
      " 8   Sp. Atk     800 non-null    int64 \n",
      " 9   Sp. Def     800 non-null    int64 \n",
      " 10  Speed       800 non-null    int64 \n",
      " 11  Generation  800 non-null    int64 \n",
      " 12  Legendary   800 non-null    bool  \n",
      "dtypes: bool(1), int64(9), object(3)\n",
      "memory usage: 75.9+ KB\n"
     ]
    }
   ],
   "source": [
    "df.info()"
   ]
  },
  {
   "cell_type": "code",
   "execution_count": 6,
   "id": "40c6ae9e",
   "metadata": {},
   "outputs": [],
   "source": [
    "#renaming the columns \n",
    "df.rename(columns={'Type 1': 'Primary_Type','Type 2':'Secondary_Type'},inplace=True)"
   ]
  },
  {
   "cell_type": "code",
   "execution_count": 33,
   "id": "e48fe3fa",
   "metadata": {
    "scrolled": true
   },
   "outputs": [
    {
     "data": {
      "text/plain": [
       "Water       112\n",
       "Normal       98\n",
       "Grass        70\n",
       "Bug          69\n",
       "Psychic      57\n",
       "Fire         52\n",
       "Electric     44\n",
       "Rock         44\n",
       "Dragon       32\n",
       "Ground       32\n",
       "Ghost        32\n",
       "Dark         31\n",
       "Poison       28\n",
       "Steel        27\n",
       "Fighting     27\n",
       "Ice          24\n",
       "Fairy        17\n",
       "Flying        4\n",
       "Name: Primary_Type, dtype: int64"
      ]
     },
     "execution_count": 33,
     "metadata": {},
     "output_type": "execute_result"
    }
   ],
   "source": [
    "df['Primary_Type'].value_counts()"
   ]
  },
  {
   "cell_type": "code",
   "execution_count": 8,
   "id": "ad432c99",
   "metadata": {
    "scrolled": true
   },
   "outputs": [],
   "source": [
    "# catagerise pokemons by their nature \n",
    "grass_pokemon = df[df['Primary_Type']==\"Grass\"]\n",
    "Water_pokemon = df[df['Primary_Type']==\"Water\"]\n",
    "Normal_pokemon = df[df['Primary_Type']==\"Normal\"]\n",
    "Bug_pokemon = df[df['Primary_Type']==\"Bug\"]\n",
    "Psychic_pokemon = df[df['Primary_Type']==\"Psychic\"]\n",
    "Fire_pokemon = df[df['Primary_Type']==\"Fire\"]\n",
    "\n",
    "Electric_pokemon = df[df['Primary_Type']==\"Electric\"]\n",
    "Rock_pokemon = df[df['Primary_Type']==\"Rock\"]\n",
    "Dragon_pokemon = df[df['Primary_Type']==\"Dragon\"]\n",
    "Ground_pokemon = df[df['Primary_Type']==\"Ground\"]\n",
    "Ghost_pokemon = df[df['Primary_Type']==\"Ghost\"]\n",
    "Dark_pokemon = df[df['Primary_Type']==\"Dark\"]\n",
    "Poison_pokemon = df[df['Primary_Type']==\"Poison\"]\n",
    "Steel_pokemon = df[df['Primary_Type']==\"Steel\"]\n",
    "Fighting_pokemon = df[df['Primary_Type']==\"Fighting\"]\n",
    "Ice_pokemon = df[df['Primary_Type']==\"Ice\"]\n",
    "Fairy_pokemon = df[df['Primary_Type']==\"Fairy\"]\n",
    "Flying_pokemon = df[df['Primary_Type']==\"Flying\"]\n"
   ]
  },
  {
   "cell_type": "code",
   "execution_count": 9,
   "id": "b9c8d2c3",
   "metadata": {},
   "outputs": [
    {
     "name": "stdout",
     "output_type": "stream",
     "text": [
      "0    Poison\n",
      "Name: Secondary_Type, dtype: object\n",
      "0    Ground\n",
      "Name: Secondary_Type, dtype: object\n",
      "0    Flying\n",
      "Name: Secondary_Type, dtype: object\n",
      "0    Flying\n",
      "Name: Secondary_Type, dtype: object\n",
      "0    Fairy\n",
      "Name: Secondary_Type, dtype: object\n",
      "0    Fighting\n",
      "Name: Secondary_Type, dtype: object\n",
      "0    Flying\n",
      "Name: Secondary_Type, dtype: object\n",
      "0    Ground\n",
      "Name: Secondary_Type, dtype: object\n",
      "0    Flying\n",
      "Name: Secondary_Type, dtype: object\n",
      "0    Flying\n",
      "Name: Secondary_Type, dtype: object\n",
      "0    Grass\n",
      "Name: Secondary_Type, dtype: object\n",
      "0    Flying\n",
      "Name: Secondary_Type, dtype: object\n",
      "0    Dark\n",
      "Name: Secondary_Type, dtype: object\n",
      "0    Psychic\n",
      "Name: Secondary_Type, dtype: object\n",
      "0    Psychic\n",
      "Name: Secondary_Type, dtype: object\n",
      "0    Ground\n",
      "Name: Secondary_Type, dtype: object\n",
      "0    Flying\n",
      "Name: Secondary_Type, dtype: object\n",
      "0    Dragon\n",
      "Name: Secondary_Type, dtype: object\n"
     ]
    }
   ],
   "source": [
    "# number of modes in per category  \n",
    "pokemon = [grass_pokemon,Water_pokemon,Normal_pokemon,Bug_pokemon,Psychic_pokemon,Fire_pokemon,Electric_pokemon,Rock_pokemon,Dragon_pokemon,Ground_pokemon,\n",
    "           Ghost_pokemon,Dark_pokemon,Poison_pokemon,Steel_pokemon,Fighting_pokemon,Ice_pokemon,Fairy_pokemon,Flying_pokemon]\n",
    "for i in pokemon:\n",
    "    print(i['Secondary_Type'].mode().iloc[0:1])"
   ]
  },
  {
   "cell_type": "code",
   "execution_count": 10,
   "id": "426e62d4",
   "metadata": {
    "scrolled": true
   },
   "outputs": [
    {
     "name": "stderr",
     "output_type": "stream",
     "text": [
      "C:\\Users\\Vivek negi\\AppData\\Local\\Temp\\ipykernel_6172\\2476276400.py:1: SettingWithCopyWarning: \n",
      "A value is trying to be set on a copy of a slice from a DataFrame.\n",
      "Try using .loc[row_indexer,col_indexer] = value instead\n",
      "\n",
      "See the caveats in the documentation: https://pandas.pydata.org/pandas-docs/stable/user_guide/indexing.html#returning-a-view-versus-a-copy\n",
      "  grass_pokemon['Secondary_Type'] = grass_pokemon['Secondary_Type'].fillna('Poison')\n",
      "C:\\Users\\Vivek negi\\AppData\\Local\\Temp\\ipykernel_6172\\2476276400.py:2: SettingWithCopyWarning: \n",
      "A value is trying to be set on a copy of a slice from a DataFrame.\n",
      "Try using .loc[row_indexer,col_indexer] = value instead\n",
      "\n",
      "See the caveats in the documentation: https://pandas.pydata.org/pandas-docs/stable/user_guide/indexing.html#returning-a-view-versus-a-copy\n",
      "  Water_pokemon['Secondary_Type'] = Water_pokemon['Secondary_Type'].fillna('Ground')\n",
      "C:\\Users\\Vivek negi\\AppData\\Local\\Temp\\ipykernel_6172\\2476276400.py:3: SettingWithCopyWarning: \n",
      "A value is trying to be set on a copy of a slice from a DataFrame.\n",
      "Try using .loc[row_indexer,col_indexer] = value instead\n",
      "\n",
      "See the caveats in the documentation: https://pandas.pydata.org/pandas-docs/stable/user_guide/indexing.html#returning-a-view-versus-a-copy\n",
      "  Normal_pokemon['Secondary_Type'] = Normal_pokemon['Secondary_Type'].fillna('Flying')\n",
      "C:\\Users\\Vivek negi\\AppData\\Local\\Temp\\ipykernel_6172\\2476276400.py:4: SettingWithCopyWarning: \n",
      "A value is trying to be set on a copy of a slice from a DataFrame.\n",
      "Try using .loc[row_indexer,col_indexer] = value instead\n",
      "\n",
      "See the caveats in the documentation: https://pandas.pydata.org/pandas-docs/stable/user_guide/indexing.html#returning-a-view-versus-a-copy\n",
      "  Bug_pokemon['Secondary_Type'] = Bug_pokemon['Secondary_Type'].fillna('Flying')\n",
      "C:\\Users\\Vivek negi\\AppData\\Local\\Temp\\ipykernel_6172\\2476276400.py:5: SettingWithCopyWarning: \n",
      "A value is trying to be set on a copy of a slice from a DataFrame.\n",
      "Try using .loc[row_indexer,col_indexer] = value instead\n",
      "\n",
      "See the caveats in the documentation: https://pandas.pydata.org/pandas-docs/stable/user_guide/indexing.html#returning-a-view-versus-a-copy\n",
      "  Psychic_pokemon['Secondary_Type'] = Psychic_pokemon['Secondary_Type'].fillna('Fairy')\n",
      "C:\\Users\\Vivek negi\\AppData\\Local\\Temp\\ipykernel_6172\\2476276400.py:6: SettingWithCopyWarning: \n",
      "A value is trying to be set on a copy of a slice from a DataFrame.\n",
      "Try using .loc[row_indexer,col_indexer] = value instead\n",
      "\n",
      "See the caveats in the documentation: https://pandas.pydata.org/pandas-docs/stable/user_guide/indexing.html#returning-a-view-versus-a-copy\n",
      "  Fire_pokemon['Secondary_Type'] = Fire_pokemon['Secondary_Type'].fillna('Fighting')\n",
      "C:\\Users\\Vivek negi\\AppData\\Local\\Temp\\ipykernel_6172\\2476276400.py:7: SettingWithCopyWarning: \n",
      "A value is trying to be set on a copy of a slice from a DataFrame.\n",
      "Try using .loc[row_indexer,col_indexer] = value instead\n",
      "\n",
      "See the caveats in the documentation: https://pandas.pydata.org/pandas-docs/stable/user_guide/indexing.html#returning-a-view-versus-a-copy\n",
      "  Electric_pokemon['Secondary_Type'] = Electric_pokemon['Secondary_Type'].fillna('Flying')\n",
      "C:\\Users\\Vivek negi\\AppData\\Local\\Temp\\ipykernel_6172\\2476276400.py:8: SettingWithCopyWarning: \n",
      "A value is trying to be set on a copy of a slice from a DataFrame.\n",
      "Try using .loc[row_indexer,col_indexer] = value instead\n",
      "\n",
      "See the caveats in the documentation: https://pandas.pydata.org/pandas-docs/stable/user_guide/indexing.html#returning-a-view-versus-a-copy\n",
      "  Rock_pokemon['Secondary_Type'] = Rock_pokemon['Secondary_Type'].fillna('Ground')\n",
      "C:\\Users\\Vivek negi\\AppData\\Local\\Temp\\ipykernel_6172\\2476276400.py:9: SettingWithCopyWarning: \n",
      "A value is trying to be set on a copy of a slice from a DataFrame.\n",
      "Try using .loc[row_indexer,col_indexer] = value instead\n",
      "\n",
      "See the caveats in the documentation: https://pandas.pydata.org/pandas-docs/stable/user_guide/indexing.html#returning-a-view-versus-a-copy\n",
      "  Dragon_pokemon['Secondary_Type'] = Dragon_pokemon['Secondary_Type'].fillna('Flying')\n",
      "C:\\Users\\Vivek negi\\AppData\\Local\\Temp\\ipykernel_6172\\2476276400.py:10: SettingWithCopyWarning: \n",
      "A value is trying to be set on a copy of a slice from a DataFrame.\n",
      "Try using .loc[row_indexer,col_indexer] = value instead\n",
      "\n",
      "See the caveats in the documentation: https://pandas.pydata.org/pandas-docs/stable/user_guide/indexing.html#returning-a-view-versus-a-copy\n",
      "  Ground_pokemon['Secondary_Type'] = Ground_pokemon['Secondary_Type'].fillna('Flying')\n",
      "C:\\Users\\Vivek negi\\AppData\\Local\\Temp\\ipykernel_6172\\2476276400.py:11: SettingWithCopyWarning: \n",
      "A value is trying to be set on a copy of a slice from a DataFrame.\n",
      "Try using .loc[row_indexer,col_indexer] = value instead\n",
      "\n",
      "See the caveats in the documentation: https://pandas.pydata.org/pandas-docs/stable/user_guide/indexing.html#returning-a-view-versus-a-copy\n",
      "  Ghost_pokemon['Secondary_Type'] = Ghost_pokemon['Secondary_Type'].fillna('Grass')\n",
      "C:\\Users\\Vivek negi\\AppData\\Local\\Temp\\ipykernel_6172\\2476276400.py:12: SettingWithCopyWarning: \n",
      "A value is trying to be set on a copy of a slice from a DataFrame.\n",
      "Try using .loc[row_indexer,col_indexer] = value instead\n",
      "\n",
      "See the caveats in the documentation: https://pandas.pydata.org/pandas-docs/stable/user_guide/indexing.html#returning-a-view-versus-a-copy\n",
      "  Dark_pokemon['Secondary_Type'] = Dark_pokemon['Secondary_Type'].fillna('Flying')\n",
      "C:\\Users\\Vivek negi\\AppData\\Local\\Temp\\ipykernel_6172\\2476276400.py:13: SettingWithCopyWarning: \n",
      "A value is trying to be set on a copy of a slice from a DataFrame.\n",
      "Try using .loc[row_indexer,col_indexer] = value instead\n",
      "\n",
      "See the caveats in the documentation: https://pandas.pydata.org/pandas-docs/stable/user_guide/indexing.html#returning-a-view-versus-a-copy\n",
      "  Poison_pokemon['Secondary_Type'] = Poison_pokemon['Secondary_Type'].fillna('Flying')\n",
      "C:\\Users\\Vivek negi\\AppData\\Local\\Temp\\ipykernel_6172\\2476276400.py:14: SettingWithCopyWarning: \n",
      "A value is trying to be set on a copy of a slice from a DataFrame.\n",
      "Try using .loc[row_indexer,col_indexer] = value instead\n",
      "\n",
      "See the caveats in the documentation: https://pandas.pydata.org/pandas-docs/stable/user_guide/indexing.html#returning-a-view-versus-a-copy\n",
      "  Steel_pokemon['Secondary_Type'] = Steel_pokemon['Secondary_Type'].fillna('Flying')\n",
      "C:\\Users\\Vivek negi\\AppData\\Local\\Temp\\ipykernel_6172\\2476276400.py:15: SettingWithCopyWarning: \n",
      "A value is trying to be set on a copy of a slice from a DataFrame.\n",
      "Try using .loc[row_indexer,col_indexer] = value instead\n",
      "\n",
      "See the caveats in the documentation: https://pandas.pydata.org/pandas-docs/stable/user_guide/indexing.html#returning-a-view-versus-a-copy\n",
      "  Fighting_pokemon['Secondary_Type'] = Fighting_pokemon['Secondary_Type'].fillna('Psychic')\n",
      "C:\\Users\\Vivek negi\\AppData\\Local\\Temp\\ipykernel_6172\\2476276400.py:16: SettingWithCopyWarning: \n",
      "A value is trying to be set on a copy of a slice from a DataFrame.\n",
      "Try using .loc[row_indexer,col_indexer] = value instead\n",
      "\n",
      "See the caveats in the documentation: https://pandas.pydata.org/pandas-docs/stable/user_guide/indexing.html#returning-a-view-versus-a-copy\n",
      "  Ice_pokemon['Secondary_Type'] = Ice_pokemon['Secondary_Type'].fillna('Ground')\n",
      "C:\\Users\\Vivek negi\\AppData\\Local\\Temp\\ipykernel_6172\\2476276400.py:17: SettingWithCopyWarning: \n",
      "A value is trying to be set on a copy of a slice from a DataFrame.\n",
      "Try using .loc[row_indexer,col_indexer] = value instead\n",
      "\n",
      "See the caveats in the documentation: https://pandas.pydata.org/pandas-docs/stable/user_guide/indexing.html#returning-a-view-versus-a-copy\n",
      "  Fairy_pokemon['Secondary_Type'] = Fairy_pokemon['Secondary_Type'].fillna('Flying')\n",
      "C:\\Users\\Vivek negi\\AppData\\Local\\Temp\\ipykernel_6172\\2476276400.py:18: SettingWithCopyWarning: \n",
      "A value is trying to be set on a copy of a slice from a DataFrame.\n",
      "Try using .loc[row_indexer,col_indexer] = value instead\n",
      "\n",
      "See the caveats in the documentation: https://pandas.pydata.org/pandas-docs/stable/user_guide/indexing.html#returning-a-view-versus-a-copy\n",
      "  Flying_pokemon['Secondary_Type'] = Flying_pokemon['Secondary_Type'].fillna('Dragon')\n"
     ]
    }
   ],
   "source": [
    "# imputing null values by mode\n",
    "grass_pokemon['Secondary_Type'] = grass_pokemon['Secondary_Type'].fillna('Poison')\n",
    "Water_pokemon['Secondary_Type'] = Water_pokemon['Secondary_Type'].fillna('Ground')\n",
    "Normal_pokemon['Secondary_Type'] = Normal_pokemon['Secondary_Type'].fillna('Flying')\n",
    "Bug_pokemon['Secondary_Type'] = Bug_pokemon['Secondary_Type'].fillna('Flying')\n",
    "Psychic_pokemon['Secondary_Type'] = Psychic_pokemon['Secondary_Type'].fillna('Fairy')\n",
    "Fire_pokemon['Secondary_Type'] = Fire_pokemon['Secondary_Type'].fillna('Fighting')\n",
    "Electric_pokemon['Secondary_Type'] = Electric_pokemon['Secondary_Type'].fillna('Flying')\n",
    "Rock_pokemon['Secondary_Type'] = Rock_pokemon['Secondary_Type'].fillna('Ground')\n",
    "Dragon_pokemon['Secondary_Type'] = Dragon_pokemon['Secondary_Type'].fillna('Flying')\n",
    "Ground_pokemon['Secondary_Type'] = Ground_pokemon['Secondary_Type'].fillna('Flying')\n",
    "Ghost_pokemon['Secondary_Type'] = Ghost_pokemon['Secondary_Type'].fillna('Grass')\n",
    "Dark_pokemon['Secondary_Type'] = Dark_pokemon['Secondary_Type'].fillna('Flying')\n",
    "Poison_pokemon['Secondary_Type'] = Poison_pokemon['Secondary_Type'].fillna('Flying')\n",
    "Steel_pokemon['Secondary_Type'] = Steel_pokemon['Secondary_Type'].fillna('Flying')\n",
    "Fighting_pokemon['Secondary_Type'] = Fighting_pokemon['Secondary_Type'].fillna('Psychic')\n",
    "Ice_pokemon['Secondary_Type'] = Ice_pokemon['Secondary_Type'].fillna('Ground')\n",
    "Fairy_pokemon['Secondary_Type'] = Fairy_pokemon['Secondary_Type'].fillna('Flying')\n",
    "Flying_pokemon['Secondary_Type'] = Flying_pokemon['Secondary_Type'].fillna('Dragon')"
   ]
  },
  {
   "cell_type": "code",
   "execution_count": 11,
   "id": "a82c6407",
   "metadata": {},
   "outputs": [],
   "source": [
    "# merge all categories \n",
    "df1 = pd.concat(pokemon)"
   ]
  },
  {
   "cell_type": "code",
   "execution_count": 12,
   "id": "48c28861",
   "metadata": {},
   "outputs": [
    {
     "name": "stdout",
     "output_type": "stream",
     "text": [
      "Legendary     1.000000\n",
      "Total         0.501758\n",
      "Sp. Atk       0.448907\n",
      "Sp. Def       0.363937\n",
      "Attack        0.345408\n",
      "Speed         0.326715\n",
      "HP            0.273620\n",
      "Defense       0.246377\n",
      "#             0.153396\n",
      "Generation    0.079794\n",
      "Name: Legendary, dtype: float64\n"
     ]
    },
    {
     "name": "stderr",
     "output_type": "stream",
     "text": [
      "C:\\Users\\Vivek negi\\AppData\\Local\\Temp\\ipykernel_6172\\150497674.py:1: FutureWarning: The default value of numeric_only in DataFrame.corr is deprecated. In a future version, it will default to False. Select only valid columns or specify the value of numeric_only to silence this warning.\n",
      "  print(df.corr()['Legendary'].abs().sort_values(ascending=False))\n"
     ]
    }
   ],
   "source": [
    "# correlation\n",
    "print(df.corr()['Legendary'].abs().sort_values(ascending=False)) "
   ]
  },
  {
   "cell_type": "code",
   "execution_count": 13,
   "id": "77155226",
   "metadata": {},
   "outputs": [],
   "source": [
    "# changing catagorical by num\n",
    "df1['Legendary']=df['Legendary'].map({True: 1, False: 0})"
   ]
  },
  {
   "cell_type": "code",
   "execution_count": 14,
   "id": "fe866978",
   "metadata": {},
   "outputs": [
    {
     "data": {
      "text/html": [
       "<div>\n",
       "<style scoped>\n",
       "    .dataframe tbody tr th:only-of-type {\n",
       "        vertical-align: middle;\n",
       "    }\n",
       "\n",
       "    .dataframe tbody tr th {\n",
       "        vertical-align: top;\n",
       "    }\n",
       "\n",
       "    .dataframe thead th {\n",
       "        text-align: right;\n",
       "    }\n",
       "</style>\n",
       "<table border=\"1\" class=\"dataframe\">\n",
       "  <thead>\n",
       "    <tr style=\"text-align: right;\">\n",
       "      <th></th>\n",
       "      <th>#</th>\n",
       "      <th>Name</th>\n",
       "      <th>Primary_Type</th>\n",
       "      <th>Secondary_Type</th>\n",
       "      <th>Total</th>\n",
       "      <th>HP</th>\n",
       "      <th>Attack</th>\n",
       "      <th>Defense</th>\n",
       "      <th>Sp. Atk</th>\n",
       "      <th>Sp. Def</th>\n",
       "      <th>Speed</th>\n",
       "      <th>Generation</th>\n",
       "      <th>Legendary</th>\n",
       "    </tr>\n",
       "  </thead>\n",
       "  <tbody>\n",
       "    <tr>\n",
       "      <th>0</th>\n",
       "      <td>1</td>\n",
       "      <td>Bulbasaur</td>\n",
       "      <td>Grass</td>\n",
       "      <td>Poison</td>\n",
       "      <td>318</td>\n",
       "      <td>45</td>\n",
       "      <td>49</td>\n",
       "      <td>49</td>\n",
       "      <td>65</td>\n",
       "      <td>65</td>\n",
       "      <td>45</td>\n",
       "      <td>1</td>\n",
       "      <td>False</td>\n",
       "    </tr>\n",
       "    <tr>\n",
       "      <th>1</th>\n",
       "      <td>2</td>\n",
       "      <td>Ivysaur</td>\n",
       "      <td>Grass</td>\n",
       "      <td>Poison</td>\n",
       "      <td>405</td>\n",
       "      <td>60</td>\n",
       "      <td>62</td>\n",
       "      <td>63</td>\n",
       "      <td>80</td>\n",
       "      <td>80</td>\n",
       "      <td>60</td>\n",
       "      <td>1</td>\n",
       "      <td>False</td>\n",
       "    </tr>\n",
       "    <tr>\n",
       "      <th>2</th>\n",
       "      <td>3</td>\n",
       "      <td>Venusaur</td>\n",
       "      <td>Grass</td>\n",
       "      <td>Poison</td>\n",
       "      <td>525</td>\n",
       "      <td>80</td>\n",
       "      <td>82</td>\n",
       "      <td>83</td>\n",
       "      <td>100</td>\n",
       "      <td>100</td>\n",
       "      <td>80</td>\n",
       "      <td>1</td>\n",
       "      <td>False</td>\n",
       "    </tr>\n",
       "    <tr>\n",
       "      <th>3</th>\n",
       "      <td>3</td>\n",
       "      <td>VenusaurMega Venusaur</td>\n",
       "      <td>Grass</td>\n",
       "      <td>Poison</td>\n",
       "      <td>625</td>\n",
       "      <td>80</td>\n",
       "      <td>100</td>\n",
       "      <td>123</td>\n",
       "      <td>122</td>\n",
       "      <td>120</td>\n",
       "      <td>80</td>\n",
       "      <td>1</td>\n",
       "      <td>False</td>\n",
       "    </tr>\n",
       "    <tr>\n",
       "      <th>4</th>\n",
       "      <td>4</td>\n",
       "      <td>Charmander</td>\n",
       "      <td>Fire</td>\n",
       "      <td>NaN</td>\n",
       "      <td>309</td>\n",
       "      <td>39</td>\n",
       "      <td>52</td>\n",
       "      <td>43</td>\n",
       "      <td>60</td>\n",
       "      <td>50</td>\n",
       "      <td>65</td>\n",
       "      <td>1</td>\n",
       "      <td>False</td>\n",
       "    </tr>\n",
       "    <tr>\n",
       "      <th>...</th>\n",
       "      <td>...</td>\n",
       "      <td>...</td>\n",
       "      <td>...</td>\n",
       "      <td>...</td>\n",
       "      <td>...</td>\n",
       "      <td>...</td>\n",
       "      <td>...</td>\n",
       "      <td>...</td>\n",
       "      <td>...</td>\n",
       "      <td>...</td>\n",
       "      <td>...</td>\n",
       "      <td>...</td>\n",
       "      <td>...</td>\n",
       "    </tr>\n",
       "    <tr>\n",
       "      <th>795</th>\n",
       "      <td>719</td>\n",
       "      <td>Diancie</td>\n",
       "      <td>Rock</td>\n",
       "      <td>Fairy</td>\n",
       "      <td>600</td>\n",
       "      <td>50</td>\n",
       "      <td>100</td>\n",
       "      <td>150</td>\n",
       "      <td>100</td>\n",
       "      <td>150</td>\n",
       "      <td>50</td>\n",
       "      <td>6</td>\n",
       "      <td>True</td>\n",
       "    </tr>\n",
       "    <tr>\n",
       "      <th>796</th>\n",
       "      <td>719</td>\n",
       "      <td>DiancieMega Diancie</td>\n",
       "      <td>Rock</td>\n",
       "      <td>Fairy</td>\n",
       "      <td>700</td>\n",
       "      <td>50</td>\n",
       "      <td>160</td>\n",
       "      <td>110</td>\n",
       "      <td>160</td>\n",
       "      <td>110</td>\n",
       "      <td>110</td>\n",
       "      <td>6</td>\n",
       "      <td>True</td>\n",
       "    </tr>\n",
       "    <tr>\n",
       "      <th>797</th>\n",
       "      <td>720</td>\n",
       "      <td>HoopaHoopa Confined</td>\n",
       "      <td>Psychic</td>\n",
       "      <td>Ghost</td>\n",
       "      <td>600</td>\n",
       "      <td>80</td>\n",
       "      <td>110</td>\n",
       "      <td>60</td>\n",
       "      <td>150</td>\n",
       "      <td>130</td>\n",
       "      <td>70</td>\n",
       "      <td>6</td>\n",
       "      <td>True</td>\n",
       "    </tr>\n",
       "    <tr>\n",
       "      <th>798</th>\n",
       "      <td>720</td>\n",
       "      <td>HoopaHoopa Unbound</td>\n",
       "      <td>Psychic</td>\n",
       "      <td>Dark</td>\n",
       "      <td>680</td>\n",
       "      <td>80</td>\n",
       "      <td>160</td>\n",
       "      <td>60</td>\n",
       "      <td>170</td>\n",
       "      <td>130</td>\n",
       "      <td>80</td>\n",
       "      <td>6</td>\n",
       "      <td>True</td>\n",
       "    </tr>\n",
       "    <tr>\n",
       "      <th>799</th>\n",
       "      <td>721</td>\n",
       "      <td>Volcanion</td>\n",
       "      <td>Fire</td>\n",
       "      <td>Water</td>\n",
       "      <td>600</td>\n",
       "      <td>80</td>\n",
       "      <td>110</td>\n",
       "      <td>120</td>\n",
       "      <td>130</td>\n",
       "      <td>90</td>\n",
       "      <td>70</td>\n",
       "      <td>6</td>\n",
       "      <td>True</td>\n",
       "    </tr>\n",
       "  </tbody>\n",
       "</table>\n",
       "<p>800 rows × 13 columns</p>\n",
       "</div>"
      ],
      "text/plain": [
       "       #                   Name Primary_Type Secondary_Type  Total  HP  \\\n",
       "0      1              Bulbasaur        Grass         Poison    318  45   \n",
       "1      2                Ivysaur        Grass         Poison    405  60   \n",
       "2      3               Venusaur        Grass         Poison    525  80   \n",
       "3      3  VenusaurMega Venusaur        Grass         Poison    625  80   \n",
       "4      4             Charmander         Fire            NaN    309  39   \n",
       "..   ...                    ...          ...            ...    ...  ..   \n",
       "795  719                Diancie         Rock          Fairy    600  50   \n",
       "796  719    DiancieMega Diancie         Rock          Fairy    700  50   \n",
       "797  720    HoopaHoopa Confined      Psychic          Ghost    600  80   \n",
       "798  720     HoopaHoopa Unbound      Psychic           Dark    680  80   \n",
       "799  721              Volcanion         Fire          Water    600  80   \n",
       "\n",
       "     Attack  Defense  Sp. Atk  Sp. Def  Speed  Generation  Legendary  \n",
       "0        49       49       65       65     45           1      False  \n",
       "1        62       63       80       80     60           1      False  \n",
       "2        82       83      100      100     80           1      False  \n",
       "3       100      123      122      120     80           1      False  \n",
       "4        52       43       60       50     65           1      False  \n",
       "..      ...      ...      ...      ...    ...         ...        ...  \n",
       "795     100      150      100      150     50           6       True  \n",
       "796     160      110      160      110    110           6       True  \n",
       "797     110       60      150      130     70           6       True  \n",
       "798     160       60      170      130     80           6       True  \n",
       "799     110      120      130       90     70           6       True  \n",
       "\n",
       "[800 rows x 13 columns]"
      ]
     },
     "execution_count": 14,
     "metadata": {},
     "output_type": "execute_result"
    }
   ],
   "source": [
    "df"
   ]
  },
  {
   "cell_type": "code",
   "execution_count": 15,
   "id": "f30a8028",
   "metadata": {},
   "outputs": [
    {
     "data": {
      "text/plain": [
       "<AxesSubplot: >"
      ]
     },
     "execution_count": 15,
     "metadata": {},
     "output_type": "execute_result"
    },
    {
     "data": {
      "image/png": "[encoded data removed]",
      "text/plain": [
       "<Figure size 1200x900 with 1 Axes>"
      ]
     },
     "metadata": {},
     "output_type": "display_data"
    }
   ],
   "source": [
    "# detection of outlier \n",
    "mp.subplots(figsize=(12,9))\n",
    "sns.boxplot(df1)"
   ]
  },
  {
   "cell_type": "code",
   "execution_count": 16,
   "id": "25d0323c",
   "metadata": {},
   "outputs": [
    {
     "name": "stdout",
     "output_type": "stream",
     "text": [
      "q1= 50.0 q3= 80.0 iqr= 30.0\n",
      "q1= 50.0 q3= 90.0 iqr= 40.0\n"
     ]
    }
   ],
   "source": [
    "# imputing outliers \n",
    "column = ['HP','Defense']\n",
    "for i in column:\n",
    "    Q1 = df1[i].quantile(0.25)\n",
    "    Q3 = df1[i].quantile(0.75)\n",
    "    iqr = Q3 - Q1\n",
    "    print('q1=',Q1,\n",
    "          'q3=',Q3,\n",
    "         'iqr=',iqr)\n",
    "    upper_b = Q3 + iqr*1.5\n",
    "    lower_b = Q1 -iqr*1.5\n",
    "    df1=df1[df1[i]<upper_b]\n",
    "    df1=df1[df1[i]>lower_b]"
   ]
  },
  {
   "cell_type": "code",
   "execution_count": 17,
   "id": "b2b54a9a",
   "metadata": {},
   "outputs": [
    {
     "name": "stdout",
     "output_type": "stream",
     "text": [
      "<class 'pandas.core.frame.DataFrame'>\n",
      "Int64Index: 757 entries, 0 to 791\n",
      "Data columns (total 13 columns):\n",
      " #   Column          Non-Null Count  Dtype \n",
      "---  ------          --------------  ----- \n",
      " 0   #               757 non-null    int64 \n",
      " 1   Name            757 non-null    object\n",
      " 2   Primary_Type    757 non-null    object\n",
      " 3   Secondary_Type  757 non-null    object\n",
      " 4   Total           757 non-null    int64 \n",
      " 5   HP              757 non-null    int64 \n",
      " 6   Attack          757 non-null    int64 \n",
      " 7   Defense         757 non-null    int64 \n",
      " 8   Sp. Atk         757 non-null    int64 \n",
      " 9   Sp. Def         757 non-null    int64 \n",
      " 10  Speed           757 non-null    int64 \n",
      " 11  Generation      757 non-null    int64 \n",
      " 12  Legendary       757 non-null    int64 \n",
      "dtypes: int64(10), object(3)\n",
      "memory usage: 82.8+ KB\n"
     ]
    }
   ],
   "source": [
    "df1.info()"
   ]
  },
  {
   "cell_type": "code",
   "execution_count": 18,
   "id": "0836def9",
   "metadata": {},
   "outputs": [],
   "source": [
    "# labelling catagorical data\n",
    "from sklearn import preprocessing\n",
    "le = preprocessing.LabelEncoder()\n",
    "X=['Name','Primary_Type','Secondary_Type']\n",
    "for i in X:\n",
    "    df1[i] = le.fit_transform(df1[i])"
   ]
  },
  {
   "cell_type": "code",
   "execution_count": 19,
   "id": "931d89c0",
   "metadata": {},
   "outputs": [],
   "source": [
    "# splitting in target and training variable \n",
    "x = df1.drop(['Legendary'],axis=1)\n",
    "y = df1['Legendary']"
   ]
  },
  {
   "cell_type": "code",
   "execution_count": 20,
   "id": "e3970589",
   "metadata": {},
   "outputs": [
    {
     "name": "stdout",
     "output_type": "stream",
     "text": [
      "<class 'pandas.core.frame.DataFrame'>\n",
      "Int64Index: 757 entries, 0 to 791\n",
      "Data columns (total 13 columns):\n",
      " #   Column          Non-Null Count  Dtype\n",
      "---  ------          --------------  -----\n",
      " 0   #               757 non-null    int64\n",
      " 1   Name            757 non-null    int32\n",
      " 2   Primary_Type    757 non-null    int32\n",
      " 3   Secondary_Type  757 non-null    int32\n",
      " 4   Total           757 non-null    int64\n",
      " 5   HP              757 non-null    int64\n",
      " 6   Attack          757 non-null    int64\n",
      " 7   Defense         757 non-null    int64\n",
      " 8   Sp. Atk         757 non-null    int64\n",
      " 9   Sp. Def         757 non-null    int64\n",
      " 10  Speed           757 non-null    int64\n",
      " 11  Generation      757 non-null    int64\n",
      " 12  Legendary       757 non-null    int64\n",
      "dtypes: int32(3), int64(10)\n",
      "memory usage: 73.9 KB\n"
     ]
    }
   ],
   "source": [
    "df1.info()"
   ]
  },
  {
   "cell_type": "code",
   "execution_count": 21,
   "id": "012dece3",
   "metadata": {},
   "outputs": [],
   "source": [
    "# train and test \n",
    "from sklearn.model_selection import train_test_split\n",
    "x_train,x_test,y_train,y_test = train_test_split(x,y,test_size = 0.2)"
   ]
  },
  {
   "cell_type": "code",
   "execution_count": 22,
   "id": "ceb765aa",
   "metadata": {},
   "outputs": [
    {
     "name": "stdout",
     "output_type": "stream",
     "text": [
      "the accuracy score achieved using logistic regression is: 93.42%\n"
     ]
    },
    {
     "name": "stderr",
     "output_type": "stream",
     "text": [
      "C:\\Users\\Vivek negi\\AppData\\Local\\Programs\\Python\\Python311\\Lib\\site-packages\\sklearn\\linear_model\\_logistic.py:444: ConvergenceWarning: lbfgs failed to converge (status=1):\n",
      "STOP: TOTAL NO. of ITERATIONS REACHED LIMIT.\n",
      "\n",
      "Increase the number of iterations (max_iter) or scale the data as shown in:\n",
      "    https://scikit-learn.org/stable/modules/preprocessing.html\n",
      "Please also refer to the documentation for alternative solver options:\n",
      "    https://scikit-learn.org/stable/modules/linear_model.html#logistic-regression\n",
      "  n_iter_i = _check_optimize_result(\n"
     ]
    }
   ],
   "source": [
    "from sklearn.linear_model import LogisticRegression\n",
    "lr=LogisticRegression() \n",
    "lr.fit(x_train, y_train)\n",
    "y_pred=lr.predict(x_test)\n",
    "from sklearn.metrics import accuracy_score\n",
    "score_lr = round(accuracy_score(y_pred,y_test)*100,2)\n",
    "print('the accuracy score achieved using logistic regression is: ' + str(score_lr)+'%')"
   ]
  },
  {
   "cell_type": "code",
   "execution_count": 23,
   "id": "37b57cb4",
   "metadata": {},
   "outputs": [
    {
     "name": "stdout",
     "output_type": "stream",
     "text": [
      "the accuracy score achieved using DecisionTreeClassifier is: 99.34%\n"
     ]
    }
   ],
   "source": [
    "from sklearn.tree import DecisionTreeClassifier\n",
    "dtc = DecisionTreeClassifier()\n",
    "dtc.fit(x_train, y_train)\n",
    "y_pred=dtc.predict(x_test)\n",
    "score_lr = round(accuracy_score(y_pred,y_test)*100,2)\n",
    "print('the accuracy score achieved using DecisionTreeClassifier is: ' + str(score_lr)+'%')"
   ]
  },
  {
   "cell_type": "code",
   "execution_count": 25,
   "id": "e7148af2",
   "metadata": {},
   "outputs": [
    {
     "data": {
      "text/plain": [
       "(800, 13)"
      ]
     },
     "execution_count": 25,
     "metadata": {},
     "output_type": "execute_result"
    }
   ],
   "source": [
    "df.shape"
   ]
  },
  {
   "cell_type": "code",
   "execution_count": 26,
   "id": "36d303be",
   "metadata": {},
   "outputs": [
    {
     "data": {
      "text/plain": [
       "(757, 13)"
      ]
     },
     "execution_count": 26,
     "metadata": {},
     "output_type": "execute_result"
    }
   ],
   "source": [
    "df1.shape"
   ]
  },
  {
   "cell_type": "code",
   "execution_count": null,
   "id": "d79b2ff8",
   "metadata": {},
   "outputs": [],
   "source": []
  }
 ],
 "metadata": {
  "kernelspec": {
   "display_name": "Python 3 (ipykernel)",
   "language": "python",
   "name": "python3"
  },
  "language_info": {
   "codemirror_mode": {
    "name": "ipython",
    "version": 3
   },
   "file_extension": ".py",
   "mimetype": "text/x-python",
   "name": "python",
   "nbconvert_exporter": "python",
   "pygments_lexer": "ipython3",
   "version": "3.11.0"
  },
  "widgets": {
   "application/vnd.jupyter.widget-state+json": {
    "state": {},
    "version_major": 2,
    "version_minor": 0
   }
  }
 },
 "nbformat": 4,
 "nbformat_minor": 5
}
